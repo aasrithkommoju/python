{
 "cells": [
  {
   "cell_type": "code",
   "execution_count": 9,
   "metadata": {},
   "outputs": [],
   "source": [
    "                class Mul(object):\n",
    "\n",
    "                    def __init__(self,number_1,number_2):\n",
    "                        self.number_1 = number_1\n",
    "                        self.number_2 = number_2\n",
    "\n",
    "                    def multiply(self):\n",
    "                        print(self.number_1 * self.number_2)\n",
    "    "
   ]
  },
  {
   "cell_type": "code",
   "execution_count": 10,
   "metadata": {},
   "outputs": [
    {
     "name": "stdout",
     "output_type": "stream",
     "text": [
      "enter two numbers for multiplication below\n"
     ]
    },
    {
     "name": "stdin",
     "output_type": "stream",
     "text": [
      "enter first number 5\n",
      "enter second number 6\n"
     ]
    },
    {
     "name": "stdout",
     "output_type": "stream",
     "text": [
      "30\n"
     ]
    }
   ],
   "source": [
    "print('enter two numbers for multiplication below')\n",
    "no_1 = int(input('enter first number'))\n",
    "no_2 = int(input('enter second number'))\n",
    "multiplication = Mul(no_1,no_2)\n",
    "multiplication.multiply()"
   ]
  },
  {
   "cell_type": "code",
   "execution_count": 11,
   "metadata": {},
   "outputs": [],
   "source": [
    "class Mul(object):\n",
    "    \n",
    "    def __init__(self):\n",
    "        self.number_1 = 0\n",
    "        self.number_2 = 0\n",
    "        \n",
    "    def take_input(self):\n",
    "        self.number_1 = int(input('enter any number'))\n",
    "        self.number_2 = int(input('enter any number'))\n",
    "        \n",
    "    def multiply(self):\n",
    "        print(self.number_1 * self.number_2)"
   ]
  },
  {
   "cell_type": "code",
   "execution_count": 12,
   "metadata": {},
   "outputs": [],
   "source": [
    "m = Mul()"
   ]
  },
  {
   "cell_type": "code",
   "execution_count": 13,
   "metadata": {},
   "outputs": [
    {
     "name": "stdin",
     "output_type": "stream",
     "text": [
      "enter any number 5\n",
      "enter any number 6\n"
     ]
    }
   ],
   "source": [
    "m.take_input()\n"
   ]
  },
  {
   "cell_type": "code",
   "execution_count": 14,
   "metadata": {},
   "outputs": [
    {
     "name": "stdout",
     "output_type": "stream",
     "text": [
      "30\n"
     ]
    }
   ],
   "source": [
    "m.multiply()"
   ]
  },
  {
   "cell_type": "code",
   "execution_count": null,
   "metadata": {},
   "outputs": [],
   "source": []
  }
 ],
 "metadata": {
  "kernelspec": {
   "display_name": "Python 3",
   "language": "python",
   "name": "python3"
  },
  "language_info": {
   "codemirror_mode": {
    "name": "ipython",
    "version": 3
   },
   "file_extension": ".py",
   "mimetype": "text/x-python",
   "name": "python",
   "nbconvert_exporter": "python",
   "pygments_lexer": "ipython3",
   "version": "3.7.6"
  }
 },
 "nbformat": 4,
 "nbformat_minor": 4
}
