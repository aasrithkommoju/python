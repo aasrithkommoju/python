{
 "cells": [
  {
   "cell_type": "code",
   "execution_count": 3,
   "metadata": {},
   "outputs": [
    {
     "name": "stdin",
     "output_type": "stream",
     "text": [
      "enter the number of elements:  5\n",
      "enter the number:  1\n",
      "enter the number:  3\n",
      "enter the number:  5\n",
      "enter the number:  6\n",
      "enter the number:  4\n"
     ]
    },
    {
     "name": "stdout",
     "output_type": "stream",
     "text": [
      "[1, 3, 5, 6, 4]\n"
     ]
    }
   ],
   "source": [
    "l = []\n",
    "n = int(input('enter the number of elements: '))\n",
    "for i in range(n):\n",
    "    x = int(input('enter the number: '))\n",
    "    l.append(x)\n",
    "print(l)"
   ]
  },
  {
   "cell_type": "code",
   "execution_count": 30,
   "metadata": {},
   "outputs": [
    {
     "name": "stdin",
     "output_type": "stream",
     "text": [
      " 4 5 8 4 4 5  4 45\n"
     ]
    },
    {
     "name": "stdout",
     "output_type": "stream",
     "text": [
      "4 [5, 8, 4, 4, 5, 4, 45]\n"
     ]
    }
   ],
   "source": [
    "\n",
    "a = list(map(int,input().split()))[:]\n",
    "number = a[0]\n",
    "a.pop(0)\n",
    "print(number,a)\n"
   ]
  },
  {
   "cell_type": "code",
   "execution_count": 9,
   "metadata": {},
   "outputs": [
    {
     "data": {
      "text/plain": [
       "[5, 6, 6]"
      ]
     },
     "execution_count": 9,
     "metadata": {},
     "output_type": "execute_result"
    }
   ],
   "source": [
    "#map\n",
    "def myfunc(n):\n",
    "  return len(n)\n",
    "\n",
    "x = list(map(myfunc, ('apple', 'banana', 'cherry')))\n",
    "x"
   ]
  },
  {
   "cell_type": "code",
   "execution_count": 37,
   "metadata": {},
   "outputs": [
    {
     "name": "stdin",
     "output_type": "stream",
     "text": [
      " 4 8 8 8 897 98 89 7 978 89 89 89 \n"
     ]
    },
    {
     "name": "stdout",
     "output_type": "stream",
     "text": [
      "[4.0, 8.0, 8.0, 8.0, 897.0, 98.0, 89.0, 7.0, 978.0, 89.0, 89.0, 89.0]\n"
     ]
    }
   ],
   "source": [
    "#n = int(input())\n",
    "a = list(map(float,input().strip().split()))[:]\n",
    "print(a)"
   ]
  },
  {
   "cell_type": "code",
   "execution_count": 45,
   "metadata": {},
   "outputs": [
    {
     "name": "stdout",
     "output_type": "stream",
     "text": [
      "gtgttrg,,,,,rrttgg.....banana....rrrgtgtrtg\n"
     ]
    }
   ],
   "source": [
    "#strip()\n",
    "txt = \"trtrtgtgttrg,,,,,rrttgg.....banana....rrrgtgtrtgt\"\n",
    "\n",
    "x = txt.strip(\".rt\")\n",
    "\n",
    "print(x)"
   ]
  },
  {
   "cell_type": "code",
   "execution_count": null,
   "metadata": {},
   "outputs": [],
   "source": []
  }
 ],
 "metadata": {
  "kernelspec": {
   "display_name": "Python 3",
   "language": "python",
   "name": "python3"
  },
  "language_info": {
   "codemirror_mode": {
    "name": "ipython",
    "version": 3
   },
   "file_extension": ".py",
   "mimetype": "text/x-python",
   "name": "python",
   "nbconvert_exporter": "python",
   "pygments_lexer": "ipython3",
   "version": "3.7.6"
  }
 },
 "nbformat": 4,
 "nbformat_minor": 4
}
