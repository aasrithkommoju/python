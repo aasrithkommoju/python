{
 "cells": [
  {
   "cell_type": "code",
   "execution_count": 1,
   "metadata": {},
   "outputs": [
    {
     "name": "stdout",
     "output_type": "stream",
     "text": [
      "5\n",
      "2\n",
      "3\n",
      "4\n",
      "6\n",
      "5\n",
      "5\n"
     ]
    }
   ],
   "source": [
    "#maximizing the final element\n",
    "def maximizeFinalElement(arr, n):\n",
    "    arr.sort();\n",
    "    if (arr[0] != 1):\n",
    "        arr[0] = 1;\n",
    "        \n",
    "    for i in range(1, n):\n",
    "        if (arr[i] - arr[i - 1] > 1):\n",
    "            arr[i] = arr[i - 1] + 1;\n",
    "    return arr[n - 1];\n",
    "                                                            \n",
    "if __name__ == '__main__':\n",
    "    n = int(input())\n",
    "    arr = []                               \n",
    "    for i in range(n):\n",
    "        x = int(input())\n",
    "        arr.append(x)\n",
    "    max = maximizeFinalElement(arr, n);\n",
    "    print(max);"
   ]
  },
  {
   "cell_type": "code",
   "execution_count": 5,
   "metadata": {},
   "outputs": [
    {
     "ename": "NameError",
     "evalue": "name 'logs' is not defined",
     "output_type": "error",
     "traceback": [
      "\u001b[1;31m---------------------------------------------------------------------------\u001b[0m",
      "\u001b[1;31mNameError\u001b[0m                                 Traceback (most recent call last)",
      "\u001b[1;32m<ipython-input-5-4e382d8bafa3>\u001b[0m in \u001b[0;36m<module>\u001b[1;34m\u001b[0m\n\u001b[0;32m      1\u001b[0m \u001b[0mtransaction_count\u001b[0m \u001b[1;33m=\u001b[0m \u001b[1;33m{\u001b[0m\u001b[1;33m}\u001b[0m\u001b[1;33m\u001b[0m\u001b[1;33m\u001b[0m\u001b[0m\n\u001b[0;32m      2\u001b[0m \u001b[1;33m\u001b[0m\u001b[0m\n\u001b[1;32m----> 3\u001b[1;33m \u001b[1;32mfor\u001b[0m \u001b[0mlog\u001b[0m \u001b[1;32min\u001b[0m \u001b[0mlogs\u001b[0m\u001b[1;33m:\u001b[0m\u001b[1;33m\u001b[0m\u001b[1;33m\u001b[0m\u001b[0m\n\u001b[0m\u001b[0;32m      4\u001b[0m     \u001b[0msender\u001b[0m\u001b[1;33m,\u001b[0m \u001b[0mrecipient\u001b[0m\u001b[1;33m,\u001b[0m \u001b[0m_\u001b[0m \u001b[1;33m=\u001b[0m \u001b[0mlog\u001b[0m\u001b[1;33m.\u001b[0m\u001b[0msplit\u001b[0m\u001b[1;33m(\u001b[0m\u001b[1;33m)\u001b[0m\u001b[1;33m\u001b[0m\u001b[1;33m\u001b[0m\u001b[0m\n\u001b[0;32m      5\u001b[0m     \u001b[1;32mif\u001b[0m \u001b[0msender\u001b[0m \u001b[1;33m==\u001b[0m \u001b[0mrecipient\u001b[0m\u001b[1;33m:\u001b[0m\u001b[1;33m\u001b[0m\u001b[1;33m\u001b[0m\u001b[0m\n",
      "\u001b[1;31mNameError\u001b[0m: name 'logs' is not defined"
     ]
    }
   ],
   "source": [
    "transaction_count = {}\n",
    "\n",
    "for log in logs:\n",
    "    sender, recipient, _ = log.split()\n",
    "    if sender == recipient:\n",
    "        if sender not in transaction_count.keys():\n",
    "            transaction_count[sender] = 0\n",
    "        transaction_count[sender] += 1\n",
    "    else:\n",
    "        if sender not in transaction_count.keys():\n",
    "            transaction_count[sender] = 0\n",
    "        if recipient not in transaction_count.keys():\n",
    "            transaction_count[recipient] = 0\n",
    "        transaction_count[sender] += 1\n",
    "        transaction_count[recipient] += 1\n",
    "sus = []\n",
    "for key in transaction_count:\n",
    "    if transaction_count[key] >= threshold:\n",
    "        sus.append(int(key))\n",
    "sus.sort()\n",
    "result = list(map(str, sus))\n",
    "return result"
   ]
  },
  {
   "cell_type": "code",
   "execution_count": 22,
   "metadata": {},
   "outputs": [
    {
     "name": "stdout",
     "output_type": "stream",
     "text": [
      "1 2 1 4 5\n",
      "{1: 2, 2: 1, 4: 1, 5: 1}\n"
     ]
    },
    {
     "ename": "AttributeError",
     "evalue": "'dict' object has no attribute 'value'",
     "output_type": "error",
     "traceback": [
      "\u001b[1;31m---------------------------------------------------------------------------\u001b[0m",
      "\u001b[1;31mAttributeError\u001b[0m                            Traceback (most recent call last)",
      "\u001b[1;32m<ipython-input-22-10fcd98bef26>\u001b[0m in \u001b[0;36m<module>\u001b[1;34m\u001b[0m\n\u001b[0;32m     12\u001b[0m \u001b[0ms\u001b[0m \u001b[1;33m=\u001b[0m \u001b[0msorted\u001b[0m\u001b[1;33m(\u001b[0m\u001b[0mfrequency\u001b[0m\u001b[1;33m.\u001b[0m\u001b[0mkeys\u001b[0m\u001b[1;33m(\u001b[0m\u001b[1;33m)\u001b[0m\u001b[1;33m)\u001b[0m\u001b[1;33m\u001b[0m\u001b[1;33m\u001b[0m\u001b[0m\n\u001b[0;32m     13\u001b[0m \u001b[0ml1\u001b[0m\u001b[1;33m,\u001b[0m\u001b[0ml3\u001b[0m \u001b[1;33m=\u001b[0m\u001b[0ml\u001b[0m\u001b[1;33m[\u001b[0m\u001b[1;36m0\u001b[0m\u001b[1;33m]\u001b[0m\u001b[1;33m,\u001b[0m\u001b[0ml\u001b[0m\u001b[1;33m[\u001b[0m\u001b[1;33m-\u001b[0m\u001b[1;36m1\u001b[0m\u001b[1;33m]\u001b[0m\u001b[1;33m\u001b[0m\u001b[1;33m\u001b[0m\u001b[0m\n\u001b[1;32m---> 14\u001b[1;33m \u001b[0ml2\u001b[0m\u001b[1;33m,\u001b[0m\u001b[0ml4\u001b[0m \u001b[1;33m=\u001b[0m \u001b[0mfrequency\u001b[0m\u001b[1;33m.\u001b[0m\u001b[0mvalue\u001b[0m\u001b[1;33m(\u001b[0m\u001b[0ml3\u001b[0m\u001b[1;33m)\u001b[0m\u001b[1;33m,\u001b[0m\u001b[0mfrequency\u001b[0m\u001b[1;33m[\u001b[0m\u001b[0ml3\u001b[0m\u001b[1;33m]\u001b[0m\u001b[1;33m\u001b[0m\u001b[1;33m\u001b[0m\u001b[0m\n\u001b[0m\u001b[0;32m     15\u001b[0m \u001b[0mprint\u001b[0m\u001b[1;33m(\u001b[0m\u001b[0ml\u001b[0m\u001b[1;33m,\u001b[0m\u001b[0ml2\u001b[0m\u001b[1;33m,\u001b[0m\u001b[0ml4\u001b[0m\u001b[1;33m)\u001b[0m\u001b[1;33m\u001b[0m\u001b[1;33m\u001b[0m\u001b[0m\n",
      "\u001b[1;31mAttributeError\u001b[0m: 'dict' object has no attribute 'value'"
     ]
    }
   ],
   "source": [
    "\n",
    "random_list = list(map(int,input().strip().split()))\n",
    "frequency = {}\n",
    "\n",
    "for item in random_list:\n",
    "   if item in frequency:\n",
    "      frequency[item] += 1\n",
    "   else:\n",
    "      frequency[item] = 1\n",
    "\n",
    "print(frequency)\n",
    "l = sorted(frequency.values())\n",
    "s = sorted(frequency.keys())\n",
    "l1,l3 =l[0],l[-1]\n",
    "l2,l4 = frequency.value(l3),frequency[l3]\n",
    "print(l,l2,l4)\n"
   ]
  },
  {
   "cell_type": "code",
   "execution_count": 29,
   "metadata": {},
   "outputs": [
    {
     "name": "stdout",
     "output_type": "stream",
     "text": [
      "5\n",
      "1 2 1 4 5\n",
      "4\n"
     ]
    }
   ],
   "source": [
    "def findDiff(arr, n):\n",
    "    dic = {}\n",
    "    for i in arr:\n",
    "        if i in dic.keys():\n",
    "            dic[i] +=1\n",
    "        else:\n",
    "            dic.update({i:1})\n",
    "    \n",
    "    l = []       \n",
    "    for x,y in dic.items():\n",
    "        l.append(y)\n",
    "    l.sort()\n",
    "    f = []\n",
    "    for x,y in dic.items():\n",
    "        if y == l[0]:\n",
    "            f.append(x)\n",
    "        if y == l[len(l)-1]:\n",
    "            f.append(x)\n",
    "    return(abs(f[0]-f[-1]))\n",
    "                   \n",
    "  \n",
    "# Driver Code \n",
    "m = int(input())\n",
    "arr = list(map(int,input().split()))\n",
    "\n",
    "print (findDiff(arr, m))"
   ]
  },
  {
   "cell_type": "code",
   "execution_count": null,
   "metadata": {},
   "outputs": [],
   "source": []
  }
 ],
 "metadata": {
  "kernelspec": {
   "display_name": "Python 3",
   "language": "python",
   "name": "python3"
  },
  "language_info": {
   "codemirror_mode": {
    "name": "ipython",
    "version": 3
   },
   "file_extension": ".py",
   "mimetype": "text/x-python",
   "name": "python",
   "nbconvert_exporter": "python",
   "pygments_lexer": "ipython3",
   "version": "3.7.6"
  }
 },
 "nbformat": 4,
 "nbformat_minor": 4
}
